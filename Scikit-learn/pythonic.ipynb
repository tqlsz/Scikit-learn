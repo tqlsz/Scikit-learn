{
 "cells": [
  {
   "cell_type": "code",
   "execution_count": 4,
   "metadata": {
    "collapsed": false
   },
   "outputs": [
    {
     "name": "stdout",
     "output_type": "stream",
     "text": [
      "False\n"
     ]
    }
   ],
   "source": [
    "\n",
    "dictionary = {}\n",
    "'''-------------------------'''\n",
    "keys = dictionary.keys()\n",
    "for k in keys:\n",
    "    if key == k:\n",
    "        if key == k:\n",
    "            print True\n",
    "            break\n",
    "'''----------pythonnic------------------'''\n",
    "if 'key' in dictionary:\n",
    "    print True\n",
    "else:\n",
    "    print False\n",
    "'''-----------------------------'''\n",
    "if 'key' not in dictionary:\n",
    "    dictionary['key'] = []\n",
    "dictionary['key'].append('list_item')\n",
    "\n",
    "dictionary.setdefault('key', []).append('list_item')\n",
    "'''-----------------------------------'''\n",
    "d = {}\n",
    "if 'a' not in d:\n",
    "    d['a'] = 100\n",
    "d['a'] += 10\n",
    "'''---------------------'''"
   ]
  },
  {
   "cell_type": "code",
   "execution_count": 7,
   "metadata": {
    "collapsed": false
   },
   "outputs": [
    {
     "name": "stdout",
     "output_type": "stream",
     "text": [
      "defaultdict(<function <lambda> at 0x00000000040B4F98>, {'a': 110})\n"
     ]
    }
   ],
   "source": [
    "from collections import defaultdict\n",
    "d = defaultdict(lambda: 100)\n",
    "\n",
    "d['a'] += 10\n",
    "print d"
   ]
  },
  {
   "cell_type": "code",
   "execution_count": 8,
   "metadata": {
    "collapsed": false
   },
   "outputs": [
    {
     "name": "stdout",
     "output_type": "stream",
     "text": [
      "0 = 0\n",
      "1 = 2\n",
      "2 = 4\n",
      "3 = 6\n",
      "4 = 8\n",
      "5 = 10\n",
      "6 = 12\n",
      "7 = 14\n",
      "8 = 16\n",
      "9 = 18\n"
     ]
    }
   ],
   "source": [
    "d = {i: i * 2 for i in xrange(10)}\n",
    "for key, value in d.items():\n",
    "    print(\"{0} = {1}\".format(key, value))"
   ]
  },
  {
   "cell_type": "code",
   "execution_count": 1,
   "metadata": {
    "collapsed": false
   },
   "outputs": [
    {
     "name": "stdout",
     "output_type": "stream",
     "text": [
      "0 = 0\n"
     ]
    }
   ],
   "source": [
    "d = {i: i * 2 for i in xrange(1)}\n",
    "\n",
    "for key, value in d.iteritems():\n",
    "    print(\"{0} = {1}\".format(key, value))"
   ]
  },
  {
   "cell_type": "code",
   "execution_count": 12,
   "metadata": {
    "collapsed": false
   },
   "outputs": [
    {
     "name": "stdout",
     "output_type": "stream",
     "text": [
      "{'a': 1, 'c': 4, 'b': 3} [('a', 1), ('b', 2), ('c', 4), ('b', 3)]\n"
     ]
    }
   ],
   "source": [
    "x = {'a': 1, 'b': 2}\n",
    "y = {'b': 3, 'c': 4}\n",
    "z = dict(x.items() + y.items())\n",
    "\n",
    "print z, x.items()+y.items()"
   ]
  },
  {
   "cell_type": "code",
   "execution_count": 10,
   "metadata": {
    "collapsed": false
   },
   "outputs": [
    {
     "name": "stdout",
     "output_type": "stream",
     "text": [
      "{'a': 1, 'c': 4, 'b': 3}\n"
     ]
    }
   ],
   "source": [
    "x = {'a': 1, 'b': 2}\n",
    "y = {'b': 3, 'c': 4}\n",
    "dictMerged1=dict(x, **y)\n",
    "print dictMerged1"
   ]
  },
  {
   "cell_type": "code",
   "execution_count": 38,
   "metadata": {
    "collapsed": false
   },
   "outputs": [
    {
     "name": "stdout",
     "output_type": "stream",
     "text": [
      "{'a': 3, 'c': 4, 'b': 2, 'e': 4, 'd': 3}\n"
     ]
    }
   ],
   "source": [
    "def merge_dict(*dict_args):\n",
    "    add_dict = {}\n",
    "    for dictionary in dict_args:\n",
    "        add_dict.update(dictionary)\n",
    "    return add_dict\n",
    "x = {'a': 1, 'b': 2}\n",
    "y = {'a': 3, 'c': 4}\n",
    "z = {'d': 3, 'e': 4}\n",
    "print merge_dict(x, y, z)\n"
   ]
  },
  {
   "cell_type": "code",
   "execution_count": 39,
   "metadata": {
    "collapsed": false
   },
   "outputs": [
    {
     "name": "stdout",
     "output_type": "stream",
     "text": [
      "{'a': 2, 'c': 3, 'b': 5, 'd': 4}\n"
     ]
    }
   ],
   "source": [
    "def union_dict(*objs):\n",
    "    _keys = set(sum([obj.keys() for obj in objs],[]))\n",
    "    _total = {}\n",
    "    for _key in _keys:\n",
    "        _total[_key] = sum([obj.get(_key,0) for obj in objs])\n",
    "    return _total\n",
    "\n",
    "obj1 = {'a':1,'b':2,'c':3}\n",
    "obj2 = {'a':1,'b':3,'d':4}\n",
    "print union_dict(obj1,obj2)"
   ]
  },
  {
   "cell_type": "code",
   "execution_count": 42,
   "metadata": {
    "collapsed": false
   },
   "outputs": [
    {
     "data": {
      "text/plain": [
       "[1, 2, 3, 4, 5]"
      ]
     },
     "execution_count": 42,
     "metadata": {},
     "output_type": "execute_result"
    }
   ],
   "source": [
    "sum([[1,2,3],[4,5]],[])"
   ]
  },
  {
   "cell_type": "code",
   "execution_count": null,
   "metadata": {
    "collapsed": true
   },
   "outputs": [],
   "source": []
  }
 ],
 "metadata": {
  "kernelspec": {
   "display_name": "Python 2",
   "language": "python",
   "name": "python2"
  },
  "language_info": {
   "codemirror_mode": {
    "name": "ipython",
    "version": 2
   },
   "file_extension": ".py",
   "mimetype": "text/x-python",
   "name": "python",
   "nbconvert_exporter": "python",
   "pygments_lexer": "ipython2",
   "version": "2.7.11"
  }
 },
 "nbformat": 4,
 "nbformat_minor": 1
}
